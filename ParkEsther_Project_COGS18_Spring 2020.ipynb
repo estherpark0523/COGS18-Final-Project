{
 "cells": [
  {
   "cell_type": "markdown",
   "metadata": {},
   "source": [
    "## Welcome to Esther's Car Shop!\n",
    "### Esther Park // A15778611\n",
    "### COGS 18 "
   ]
  },
  {
   "cell_type": "markdown",
   "metadata": {},
   "source": [
    "## Project Description\n",
    "\n",
    "The following project is a simulation of a car shop. Although I have no experience buying a car firsthand, I thought it would be a fun and interesting way, like a game, to have the reader/player be able to choose a car of their choice from an existing list of cars. The player will be given a set budget, which will increase by selling a car to the shop, and decrease by buying a car from the shop. The reader/player will also be able to make exchanges at the shop if they want to, at a cost, of course. This implements the use of classes and several functions within that class."
   ]
  },
  {
   "cell_type": "markdown",
   "metadata": {},
   "source": [
    "## Project Code"
   ]
  },
  {
   "cell_type": "code",
   "execution_count": 1,
   "metadata": {},
   "outputs": [
    {
     "data": {
      "text/plain": [
       "100000"
      ]
     },
     "execution_count": 1,
     "metadata": {},
     "output_type": "execute_result"
    }
   ],
   "source": [
    "from car_functions import CarShop\n",
    "\n",
    "#The following is a class that performs !!!????\n",
    "test_carshop = CarShop()\n",
    "#You, the customer, have been given a set budget to begin with.\n",
    "#This budget will increase/decrease with a purchase/sale/repair.\n",
    "test_carshop.budget"
   ]
  },
  {
   "cell_type": "code",
   "execution_count": 2,
   "metadata": {},
   "outputs": [
    {
     "data": {
      "text/plain": [
       "5"
      ]
     },
     "execution_count": 2,
     "metadata": {},
     "output_type": "execute_result"
    }
   ],
   "source": [
    "#How many cars are currently in the car shop\n",
    "test_carshop.number_of_cars"
   ]
  },
  {
   "cell_type": "code",
   "execution_count": 3,
   "metadata": {},
   "outputs": [
    {
     "data": {
      "text/plain": [
       "[('Mercedes-Benz', 'E-Class', 2017, 52000),\n",
       " ('Honda', 'Civic', 2012, 17000),\n",
       " ('Toyota', 'Prius', 2020, 25000),\n",
       " ('Tesla', 'Model S', 2018, 100000),\n",
       " ('Lightning McQueen', 'Racecar', 2006, 462000)]"
      ]
     },
     "execution_count": 3,
     "metadata": {},
     "output_type": "execute_result"
    }
   ],
   "source": [
    "#The car shop's cars and their attributes\n",
    "test_carshop.cars"
   ]
  },
  {
   "cell_type": "code",
   "execution_count": 4,
   "metadata": {},
   "outputs": [
    {
     "name": "stdout",
     "output_type": "stream",
     "text": [
      "budget =  250000\n"
     ]
    }
   ],
   "source": [
    "#You, the customer, are selling the following car to the car shop.\n",
    "#Your budget will be shown after every purchase/sale/repair.\n",
    "test_carshop.customer_sells('Toyota', 'Supra', 1993, 150000)"
   ]
  },
  {
   "cell_type": "code",
   "execution_count": 5,
   "metadata": {},
   "outputs": [
    {
     "data": {
      "text/plain": [
       "250000"
      ]
     },
     "execution_count": 5,
     "metadata": {},
     "output_type": "execute_result"
    }
   ],
   "source": [
    "#You can also print your current budget to verify \n",
    "#how much money you have.\n",
    "test_carshop.budget"
   ]
  },
  {
   "cell_type": "code",
   "execution_count": 6,
   "metadata": {},
   "outputs": [
    {
     "data": {
      "text/plain": [
       "[('Mercedes-Benz', 'E-Class', 2017, 52000),\n",
       " ('Honda', 'Civic', 2012, 17000),\n",
       " ('Toyota', 'Prius', 2020, 25000),\n",
       " ('Tesla', 'Model S', 2018, 100000),\n",
       " ('Lightning McQueen', 'Racecar', 2006, 462000),\n",
       " ('Toyota', 'Supra', 1993, 150000)]"
      ]
     },
     "execution_count": 6,
     "metadata": {},
     "output_type": "execute_result"
    }
   ],
   "source": [
    "test_carshop.cars"
   ]
  },
  {
   "cell_type": "code",
   "execution_count": 7,
   "metadata": {},
   "outputs": [
    {
     "data": {
      "text/plain": [
       "('Toyota', 'Prius', 2020, 25000)"
      ]
     },
     "execution_count": 7,
     "metadata": {},
     "output_type": "execute_result"
    }
   ],
   "source": [
    "#You can compare the years of all the cars in\n",
    "#the car shop to display either the newest\n",
    "#or oldest car in the shop\n",
    "test_carshop.compare_year('newest')"
   ]
  },
  {
   "cell_type": "code",
   "execution_count": 8,
   "metadata": {},
   "outputs": [
    {
     "data": {
      "text/plain": [
       "('Toyota', 'Supra', 1993, 150000)"
      ]
     },
     "execution_count": 8,
     "metadata": {},
     "output_type": "execute_result"
    }
   ],
   "source": [
    "test_carshop.compare_year('oldest')"
   ]
  },
  {
   "cell_type": "code",
   "execution_count": 9,
   "metadata": {},
   "outputs": [
    {
     "name": "stdout",
     "output_type": "stream",
     "text": [
      "budget =  251000\n"
     ]
    }
   ],
   "source": [
    "#You, the customer, can sell cars to the car shop,\n",
    "#as long as you specify their attributes.\n",
    "test_carshop.customer_sells('Ford', 'Oldy', 1980, 1000)"
   ]
  },
  {
   "cell_type": "code",
   "execution_count": 10,
   "metadata": {},
   "outputs": [
    {
     "data": {
      "text/plain": [
       "('Ford', 'Oldy', 1980, 1000)"
      ]
     },
     "execution_count": 10,
     "metadata": {},
     "output_type": "execute_result"
    }
   ],
   "source": [
    "#The car shop's methods will be updated\n",
    "#to cars that are sold, exchanged, or bought.\n",
    "test_carshop.compare_year('oldest')"
   ]
  },
  {
   "cell_type": "code",
   "execution_count": 11,
   "metadata": {},
   "outputs": [
    {
     "data": {
      "text/plain": [
       "[('Mercedes-Benz', 'E-Class', 2017, 52000),\n",
       " ('Honda', 'Civic', 2012, 17000),\n",
       " ('Toyota', 'Prius', 2020, 25000),\n",
       " ('Tesla', 'Model S', 2018, 100000),\n",
       " ('Lightning McQueen', 'Racecar', 2006, 462000),\n",
       " ('Toyota', 'Supra', 1993, 150000),\n",
       " ('Ford', 'Oldy', 1980, 1000)]"
      ]
     },
     "execution_count": 11,
     "metadata": {},
     "output_type": "execute_result"
    }
   ],
   "source": [
    "#In case you want to see the cars that are\n",
    "#currently in the car shop.\n",
    "test_carshop.cars"
   ]
  },
  {
   "cell_type": "code",
   "execution_count": 12,
   "metadata": {},
   "outputs": [
    {
     "name": "stdout",
     "output_type": "stream",
     "text": [
      "budget =  250000\n"
     ]
    }
   ],
   "source": [
    "#You, the customer, can also buy cars from the shop,\n",
    "#so long as you specify their attributes.\n",
    "test_carshop.customer_buys('Ford', 'Oldy', 1980, 1000)"
   ]
  },
  {
   "cell_type": "code",
   "execution_count": 13,
   "metadata": {},
   "outputs": [
    {
     "data": {
      "text/plain": [
       "[('Mercedes-Benz', 'E-Class', 2017, 52000),\n",
       " ('Honda', 'Civic', 2012, 17000),\n",
       " ('Toyota', 'Prius', 2020, 25000),\n",
       " ('Tesla', 'Model S', 2018, 100000),\n",
       " ('Lightning McQueen', 'Racecar', 2006, 462000),\n",
       " ('Toyota', 'Supra', 1993, 150000)]"
      ]
     },
     "execution_count": 13,
     "metadata": {},
     "output_type": "execute_result"
    }
   ],
   "source": [
    "test_carshop.cars"
   ]
  },
  {
   "cell_type": "code",
   "execution_count": 14,
   "metadata": {},
   "outputs": [
    {
     "name": "stdout",
     "output_type": "stream",
     "text": [
      "budget =  240000\n"
     ]
    }
   ],
   "source": [
    "#You can also exchange one car from outside the shop\n",
    "#with one car inside the shop.\n",
    "#All details regarding the car outside the shop are up to the\n",
    "#customer to decide - this is not a realistic shop by any means.\n",
    "test_carshop.exchange('Acura', 'TL', 2005, 7000, 'Honda', 'Civic', 2012, 17000)"
   ]
  },
  {
   "cell_type": "code",
   "execution_count": 15,
   "metadata": {},
   "outputs": [
    {
     "data": {
      "text/plain": [
       "[('Mercedes-Benz', 'E-Class', 2017, 52000),\n",
       " ('Toyota', 'Prius', 2020, 25000),\n",
       " ('Tesla', 'Model S', 2018, 100000),\n",
       " ('Lightning McQueen', 'Racecar', 2006, 462000),\n",
       " ('Toyota', 'Supra', 1993, 150000),\n",
       " ('Acura', 'TL', 2005, 7000)]"
      ]
     },
     "execution_count": 15,
     "metadata": {},
     "output_type": "execute_result"
    }
   ],
   "source": [
    "test_carshop.cars"
   ]
  },
  {
   "cell_type": "code",
   "execution_count": 16,
   "metadata": {},
   "outputs": [
    {
     "data": {
      "text/plain": [
       "150"
      ]
     },
     "execution_count": 16,
     "metadata": {},
     "output_type": "execute_result"
    }
   ],
   "source": [
    "#You can also repair a car as long as you give the car's price.\n",
    "#The output is what the repair will cost you.\n",
    "#This repair cost will be taken from the budget. \n",
    "test_carshop.repair(7000)"
   ]
  },
  {
   "cell_type": "code",
   "execution_count": 17,
   "metadata": {},
   "outputs": [
    {
     "data": {
      "text/plain": [
       "250"
      ]
     },
     "execution_count": 17,
     "metadata": {},
     "output_type": "execute_result"
    }
   ],
   "source": [
    "#The higher the car price, the higher the repair cost.\n",
    "test_carshop.repair(46000)"
   ]
  },
  {
   "cell_type": "code",
   "execution_count": 18,
   "metadata": {},
   "outputs": [
    {
     "data": {
      "text/plain": [
       "240000"
      ]
     },
     "execution_count": 18,
     "metadata": {},
     "output_type": "execute_result"
    }
   ],
   "source": [
    "#It is always good to check your budget!\n",
    "test_carshop.budget"
   ]
  },
  {
   "cell_type": "code",
   "execution_count": 19,
   "metadata": {},
   "outputs": [
    {
     "name": "stdout",
     "output_type": "stream",
     "text": [
      "\u001b[1m============================= test session starts ==============================\u001b[0m\r\n",
      "platform darwin -- Python 3.7.6, pytest-5.3.5, py-1.8.1, pluggy-0.13.1\r\n",
      "rootdir: /Users/estherpark/ParkEsther_ProjectFolder_COGS18\r\n",
      "plugins: hypothesis-5.5.4, arraydiff-0.3, remotedata-0.3.2, openfiles-0.4.0, doctestplus-0.5.0, astropy-header-0.1.2\r\n",
      "\u001b[1mcollecting ... \u001b[0m\u001b[1m\r",
      "collected 1 item                                                               \u001b[0m\r\n",
      "\r\n",
      "test_functions.py \u001b[32m.\u001b[0m\u001b[32m                                                      [100%]\u001b[0m\r\n",
      "\r\n",
      "\u001b[32m============================== \u001b[32m\u001b[1m1 passed\u001b[0m\u001b[32m in 0.03s\u001b[0m\u001b[32m ===============================\u001b[0m\r\n"
     ]
    }
   ],
   "source": [
    "#The following is a pytest to verify that the test functions are working properly.\n",
    "!pytest test_functions.py"
   ]
  }
 ],
 "metadata": {
  "kernelspec": {
   "display_name": "Python 3",
   "language": "python",
   "name": "python3"
  },
  "language_info": {
   "codemirror_mode": {
    "name": "ipython",
    "version": 3
   },
   "file_extension": ".py",
   "mimetype": "text/x-python",
   "name": "python",
   "nbconvert_exporter": "python",
   "pygments_lexer": "ipython3",
   "version": "3.7.6"
  }
 },
 "nbformat": 4,
 "nbformat_minor": 4
}
